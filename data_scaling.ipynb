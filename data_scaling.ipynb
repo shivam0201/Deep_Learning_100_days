{
 "cells": [
  {
   "cell_type": "code",
   "execution_count": 2,
   "metadata": {},
   "outputs": [],
   "source": [
    "import tensorflow \n",
    "from tensorflow import keras\n",
    "from tensorflow.keras import Sequential,callbacks\n",
    "from tensorflow.keras.layers import Dense,Dropout\n",
    "import matplotlib.pyplot as plt\n",
    "import seaborn as sns\n",
    "from sklearn.model_selection import train_test_split\n",
    "import numpy as np\n",
    "import pandas as pd"
   ]
  },
  {
   "cell_type": "code",
   "execution_count": 3,
   "metadata": {},
   "outputs": [],
   "source": [
    "df=pd.read_csv('Social_Network_Ads.csv')"
   ]
  },
  {
   "cell_type": "code",
   "execution_count": 4,
   "metadata": {},
   "outputs": [
    {
     "data": {
      "text/html": [
       "<div>\n",
       "<style scoped>\n",
       "    .dataframe tbody tr th:only-of-type {\n",
       "        vertical-align: middle;\n",
       "    }\n",
       "\n",
       "    .dataframe tbody tr th {\n",
       "        vertical-align: top;\n",
       "    }\n",
       "\n",
       "    .dataframe thead th {\n",
       "        text-align: right;\n",
       "    }\n",
       "</style>\n",
       "<table border=\"1\" class=\"dataframe\">\n",
       "  <thead>\n",
       "    <tr style=\"text-align: right;\">\n",
       "      <th></th>\n",
       "      <th>Age</th>\n",
       "      <th>EstimatedSalary</th>\n",
       "      <th>Purchased</th>\n",
       "    </tr>\n",
       "  </thead>\n",
       "  <tbody>\n",
       "    <tr>\n",
       "      <th>0</th>\n",
       "      <td>19</td>\n",
       "      <td>19000</td>\n",
       "      <td>0</td>\n",
       "    </tr>\n",
       "    <tr>\n",
       "      <th>1</th>\n",
       "      <td>35</td>\n",
       "      <td>20000</td>\n",
       "      <td>0</td>\n",
       "    </tr>\n",
       "    <tr>\n",
       "      <th>2</th>\n",
       "      <td>26</td>\n",
       "      <td>43000</td>\n",
       "      <td>0</td>\n",
       "    </tr>\n",
       "    <tr>\n",
       "      <th>3</th>\n",
       "      <td>27</td>\n",
       "      <td>57000</td>\n",
       "      <td>0</td>\n",
       "    </tr>\n",
       "    <tr>\n",
       "      <th>4</th>\n",
       "      <td>19</td>\n",
       "      <td>76000</td>\n",
       "      <td>0</td>\n",
       "    </tr>\n",
       "    <tr>\n",
       "      <th>...</th>\n",
       "      <td>...</td>\n",
       "      <td>...</td>\n",
       "      <td>...</td>\n",
       "    </tr>\n",
       "    <tr>\n",
       "      <th>395</th>\n",
       "      <td>46</td>\n",
       "      <td>41000</td>\n",
       "      <td>1</td>\n",
       "    </tr>\n",
       "    <tr>\n",
       "      <th>396</th>\n",
       "      <td>51</td>\n",
       "      <td>23000</td>\n",
       "      <td>1</td>\n",
       "    </tr>\n",
       "    <tr>\n",
       "      <th>397</th>\n",
       "      <td>50</td>\n",
       "      <td>20000</td>\n",
       "      <td>1</td>\n",
       "    </tr>\n",
       "    <tr>\n",
       "      <th>398</th>\n",
       "      <td>36</td>\n",
       "      <td>33000</td>\n",
       "      <td>0</td>\n",
       "    </tr>\n",
       "    <tr>\n",
       "      <th>399</th>\n",
       "      <td>49</td>\n",
       "      <td>36000</td>\n",
       "      <td>1</td>\n",
       "    </tr>\n",
       "  </tbody>\n",
       "</table>\n",
       "<p>400 rows × 3 columns</p>\n",
       "</div>"
      ],
      "text/plain": [
       "     Age  EstimatedSalary  Purchased\n",
       "0     19            19000          0\n",
       "1     35            20000          0\n",
       "2     26            43000          0\n",
       "3     27            57000          0\n",
       "4     19            76000          0\n",
       "..   ...              ...        ...\n",
       "395   46            41000          1\n",
       "396   51            23000          1\n",
       "397   50            20000          1\n",
       "398   36            33000          0\n",
       "399   49            36000          1\n",
       "\n",
       "[400 rows x 3 columns]"
      ]
     },
     "execution_count": 4,
     "metadata": {},
     "output_type": "execute_result"
    }
   ],
   "source": [
    "df=df.iloc[:,2:]\n",
    "df"
   ]
  },
  {
   "cell_type": "code",
   "execution_count": 6,
   "metadata": {},
   "outputs": [
    {
     "name": "stderr",
     "output_type": "stream",
     "text": [
      "c:\\Users\\mishr\\anaconda3\\lib\\site-packages\\seaborn\\_decorators.py:43: FutureWarning: Pass the following variables as keyword args: x, y. From version 0.12, the only valid positional argument will be `data`, and passing other arguments without an explicit keyword will result in an error or misinterpretation.\n",
      "  FutureWarning\n"
     ]
    },
    {
     "data": {
      "text/plain": [
       "<AxesSubplot:xlabel='Age', ylabel='EstimatedSalary'>"
      ]
     },
     "execution_count": 6,
     "metadata": {},
     "output_type": "execute_result"
    },
    {
     "data": {
      "image/png": "[encoded data removed]",
      "text/plain": [
       "<Figure size 432x288 with 1 Axes>"
      ]
     },
     "metadata": {
      "needs_background": "light"
     },
     "output_type": "display_data"
    }
   ],
   "source": [
    "sns.scatterplot(df.iloc[:,0],df.iloc[:,1])"
   ]
  },
  {
   "cell_type": "code",
   "execution_count": 5,
   "metadata": {},
   "outputs": [],
   "source": [
    "X=df.iloc[:,0:2]\n",
    "y=df.iloc[:,-1]\n",
    "X_train,X_test,y_train,y_test=train_test_split(X,y,test_size=0.2,random_state=2)"
   ]
  },
  {
   "cell_type": "code",
   "execution_count": 7,
   "metadata": {},
   "outputs": [],
   "source": [
    "model=Sequential()\n",
    "\n",
    "model.add(Dense(128,activation='relu',input_dim=2))\n",
    "model.add(Dense(1,activation='sigmoid'))"
   ]
  },
  {
   "cell_type": "code",
   "execution_count": 8,
   "metadata": {},
   "outputs": [
    {
     "name": "stdout",
     "output_type": "stream",
     "text": [
      "Model: \"sequential\"\n",
      "_________________________________________________________________\n",
      "Layer (type)                 Output Shape              Param #   \n",
      "=================================================================\n",
      "dense (Dense)                (None, 128)               384       \n",
      "_________________________________________________________________\n",
      "dense_1 (Dense)              (None, 1)                 129       \n",
      "=================================================================\n",
      "Total params: 513\n",
      "Trainable params: 513\n",
      "Non-trainable params: 0\n",
      "_________________________________________________________________\n"
     ]
    }
   ],
   "source": [
    "model.summary()"
   ]
  },
  {
   "cell_type": "code",
   "execution_count": 9,
   "metadata": {},
   "outputs": [],
   "source": [
    "model.compile(loss='binary_crossentropy',optimizer='adam',metrics=['accuracy'])"
   ]
  },
  {
   "cell_type": "code",
   "execution_count": 13,
   "metadata": {},
   "outputs": [
    {
     "name": "stdout",
     "output_type": "stream",
     "text": [
      "Train on 320 samples, validate on 80 samples\n",
      "Epoch 1/100\n",
      "320/320 [==============================] - 0s 215us/sample - loss: 10.0145 - accuracy: 0.3469 - val_loss: 9.1999 - val_accuracy: 0.4000\n",
      "Epoch 2/100\n",
      "320/320 [==============================] - 0s 200us/sample - loss: 10.0145 - accuracy: 0.3469 - val_loss: 9.1999 - val_accuracy: 0.4000\n",
      "Epoch 3/100\n",
      "320/320 [==============================] - 0s 204us/sample - loss: 10.0145 - accuracy: 0.3469 - val_loss: 9.1999 - val_accuracy: 0.4000\n",
      "Epoch 4/100\n",
      "320/320 [==============================] - 0s 196us/sample - loss: 10.0145 - accuracy: 0.3469 - val_loss: 9.1999 - val_accuracy: 0.4000\n",
      "Epoch 5/100\n",
      "320/320 [==============================] - 0s 224us/sample - loss: 10.0145 - accuracy: 0.3469 - val_loss: 9.1999 - val_accuracy: 0.4000\n",
      "Epoch 6/100\n",
      "320/320 [==============================] - 0s 236us/sample - loss: 10.0145 - accuracy: 0.3469 - val_loss: 9.1999 - val_accuracy: 0.4000\n",
      "Epoch 7/100\n",
      "320/320 [==============================] - 0s 202us/sample - loss: 10.0145 - accuracy: 0.3469 - val_loss: 9.1999 - val_accuracy: 0.4000\n",
      "Epoch 8/100\n",
      "320/320 [==============================] - 0s 210us/sample - loss: 10.0145 - accuracy: 0.3469 - val_loss: 9.1999 - val_accuracy: 0.4000\n",
      "Epoch 9/100\n",
      "320/320 [==============================] - 0s 221us/sample - loss: 10.0145 - accuracy: 0.3469 - val_loss: 9.1999 - val_accuracy: 0.4000\n",
      "Epoch 10/100\n",
      "320/320 [==============================] - 0s 261us/sample - loss: 10.0145 - accuracy: 0.3469 - val_loss: 9.1999 - val_accuracy: 0.4000\n",
      "Epoch 11/100\n",
      "320/320 [==============================] - 0s 201us/sample - loss: 10.0145 - accuracy: 0.3469 - val_loss: 9.1999 - val_accuracy: 0.4000\n",
      "Epoch 12/100\n",
      "320/320 [==============================] - 0s 219us/sample - loss: 10.0145 - accuracy: 0.3469 - val_loss: 9.1999 - val_accuracy: 0.4000\n",
      "Epoch 13/100\n",
      "320/320 [==============================] - 0s 221us/sample - loss: 10.0145 - accuracy: 0.3469 - val_loss: 9.1999 - val_accuracy: 0.4000\n",
      "Epoch 14/100\n",
      "320/320 [==============================] - 0s 278us/sample - loss: 10.0145 - accuracy: 0.3469 - val_loss: 9.1999 - val_accuracy: 0.4000\n",
      "Epoch 15/100\n",
      "320/320 [==============================] - 0s 232us/sample - loss: 10.0145 - accuracy: 0.3469 - val_loss: 9.1999 - val_accuracy: 0.4000\n",
      "Epoch 16/100\n",
      "320/320 [==============================] - 0s 376us/sample - loss: 10.0145 - accuracy: 0.3469 - val_loss: 9.1999 - val_accuracy: 0.4000\n",
      "Epoch 17/100\n",
      "320/320 [==============================] - 0s 290us/sample - loss: 10.0145 - accuracy: 0.3469 - val_loss: 9.1999 - val_accuracy: 0.4000\n",
      "Epoch 18/100\n",
      "320/320 [==============================] - 0s 222us/sample - loss: 10.0145 - accuracy: 0.3469 - val_loss: 9.1999 - val_accuracy: 0.4000\n",
      "Epoch 19/100\n",
      "320/320 [==============================] - 0s 310us/sample - loss: 10.0145 - accuracy: 0.3469 - val_loss: 9.1999 - val_accuracy: 0.4000\n",
      "Epoch 20/100\n",
      "320/320 [==============================] - 0s 210us/sample - loss: 10.0145 - accuracy: 0.3469 - val_loss: 9.1999 - val_accuracy: 0.4000\n",
      "Epoch 21/100\n",
      "320/320 [==============================] - 0s 220us/sample - loss: 10.0145 - accuracy: 0.3469 - val_loss: 9.1999 - val_accuracy: 0.4000\n",
      "Epoch 22/100\n",
      "320/320 [==============================] - 0s 242us/sample - loss: 10.0145 - accuracy: 0.3469 - val_loss: 9.1999 - val_accuracy: 0.4000\n",
      "Epoch 23/100\n",
      "320/320 [==============================] - 0s 273us/sample - loss: 10.0145 - accuracy: 0.3469 - val_loss: 9.1999 - val_accuracy: 0.4000\n",
      "Epoch 24/100\n",
      "320/320 [==============================] - 0s 272us/sample - loss: 10.0145 - accuracy: 0.3469 - val_loss: 9.1999 - val_accuracy: 0.4000\n",
      "Epoch 25/100\n",
      "320/320 [==============================] - 0s 227us/sample - loss: 10.0145 - accuracy: 0.3469 - val_loss: 9.1999 - val_accuracy: 0.4000\n",
      "Epoch 26/100\n",
      "320/320 [==============================] - 0s 228us/sample - loss: 10.0145 - accuracy: 0.3469 - val_loss: 9.1999 - val_accuracy: 0.4000\n",
      "Epoch 27/100\n",
      "320/320 [==============================] - 0s 218us/sample - loss: 10.0145 - accuracy: 0.3469 - val_loss: 9.1999 - val_accuracy: 0.4000\n",
      "Epoch 28/100\n",
      "320/320 [==============================] - 0s 243us/sample - loss: 10.0145 - accuracy: 0.3469 - val_loss: 9.1999 - val_accuracy: 0.4000\n",
      "Epoch 29/100\n",
      "320/320 [==============================] - ETA: 0s - loss: 11.9791 - accuracy: 0.218 - 0s 242us/sample - loss: 10.0145 - accuracy: 0.3469 - val_loss: 9.1999 - val_accuracy: 0.4000\n",
      "Epoch 30/100\n",
      "320/320 [==============================] - 0s 202us/sample - loss: 10.0145 - accuracy: 0.3469 - val_loss: 9.1999 - val_accuracy: 0.4000\n",
      "Epoch 31/100\n",
      "320/320 [==============================] - 0s 218us/sample - loss: 10.0145 - accuracy: 0.3469 - val_loss: 9.1999 - val_accuracy: 0.4000\n",
      "Epoch 32/100\n",
      "320/320 [==============================] - 0s 216us/sample - loss: 10.0145 - accuracy: 0.3469 - val_loss: 9.1999 - val_accuracy: 0.4000\n",
      "Epoch 33/100\n",
      "320/320 [==============================] - 0s 247us/sample - loss: 10.0145 - accuracy: 0.3469 - val_loss: 9.1999 - val_accuracy: 0.4000\n",
      "Epoch 34/100\n",
      "320/320 [==============================] - 0s 273us/sample - loss: 10.0145 - accuracy: 0.3469 - val_loss: 9.1999 - val_accuracy: 0.4000\n",
      "Epoch 35/100\n",
      "320/320 [==============================] - 0s 327us/sample - loss: 10.0145 - accuracy: 0.3469 - val_loss: 9.1999 - val_accuracy: 0.4000\n",
      "Epoch 36/100\n",
      "320/320 [==============================] - 0s 256us/sample - loss: 10.0145 - accuracy: 0.3469 - val_loss: 9.1999 - val_accuracy: 0.4000\n",
      "Epoch 37/100\n",
      "320/320 [==============================] - 0s 253us/sample - loss: 10.0145 - accuracy: 0.3469 - val_loss: 9.1999 - val_accuracy: 0.4000\n",
      "Epoch 38/100\n",
      "320/320 [==============================] - 0s 235us/sample - loss: 10.0145 - accuracy: 0.3469 - val_loss: 9.1999 - val_accuracy: 0.4000\n",
      "Epoch 39/100\n",
      "320/320 [==============================] - 0s 219us/sample - loss: 10.0145 - accuracy: 0.3469 - val_loss: 9.1999 - val_accuracy: 0.4000\n",
      "Epoch 40/100\n",
      "320/320 [==============================] - 0s 268us/sample - loss: 10.0145 - accuracy: 0.3469 - val_loss: 9.1999 - val_accuracy: 0.4000\n",
      "Epoch 41/100\n",
      "320/320 [==============================] - 0s 275us/sample - loss: 10.0145 - accuracy: 0.3469 - val_loss: 9.1999 - val_accuracy: 0.4000\n",
      "Epoch 42/100\n",
      "320/320 [==============================] - 0s 272us/sample - loss: 10.0145 - accuracy: 0.3469 - val_loss: 9.1999 - val_accuracy: 0.4000\n",
      "Epoch 43/100\n",
      "320/320 [==============================] - 0s 247us/sample - loss: 10.0145 - accuracy: 0.3469 - val_loss: 9.1999 - val_accuracy: 0.4000\n",
      "Epoch 44/100\n",
      "320/320 [==============================] - 0s 227us/sample - loss: 10.0145 - accuracy: 0.3469 - val_loss: 9.1999 - val_accuracy: 0.4000\n",
      "Epoch 45/100\n",
      "320/320 [==============================] - 0s 351us/sample - loss: 10.0145 - accuracy: 0.3469 - val_loss: 9.1999 - val_accuracy: 0.4000\n",
      "Epoch 46/100\n",
      "320/320 [==============================] - 0s 223us/sample - loss: 10.0145 - accuracy: 0.3469 - val_loss: 9.1999 - val_accuracy: 0.4000\n",
      "Epoch 47/100\n",
      "320/320 [==============================] - 0s 263us/sample - loss: 10.0145 - accuracy: 0.3469 - val_loss: 9.1999 - val_accuracy: 0.4000\n",
      "Epoch 48/100\n",
      "320/320 [==============================] - 0s 248us/sample - loss: 10.0145 - accuracy: 0.3469 - val_loss: 9.1999 - val_accuracy: 0.4000\n",
      "Epoch 49/100\n",
      "320/320 [==============================] - 0s 280us/sample - loss: 10.0145 - accuracy: 0.3469 - val_loss: 9.1999 - val_accuracy: 0.4000\n",
      "Epoch 50/100\n",
      "320/320 [==============================] - 0s 248us/sample - loss: 10.0145 - accuracy: 0.3469 - val_loss: 9.1999 - val_accuracy: 0.4000\n",
      "Epoch 51/100\n",
      "320/320 [==============================] - 0s 212us/sample - loss: 10.0145 - accuracy: 0.3469 - val_loss: 9.1999 - val_accuracy: 0.4000\n",
      "Epoch 52/100\n",
      "320/320 [==============================] - 0s 207us/sample - loss: 10.0145 - accuracy: 0.3469 - val_loss: 9.1999 - val_accuracy: 0.4000\n",
      "Epoch 53/100\n",
      "320/320 [==============================] - 0s 197us/sample - loss: 10.0145 - accuracy: 0.3469 - val_loss: 9.1999 - val_accuracy: 0.4000\n",
      "Epoch 54/100\n",
      "320/320 [==============================] - 0s 174us/sample - loss: 10.0145 - accuracy: 0.3469 - val_loss: 9.1999 - val_accuracy: 0.4000\n",
      "Epoch 55/100\n",
      "320/320 [==============================] - 0s 229us/sample - loss: 10.0145 - accuracy: 0.3469 - val_loss: 9.1999 - val_accuracy: 0.4000\n",
      "Epoch 56/100\n",
      "320/320 [==============================] - 0s 226us/sample - loss: 10.0145 - accuracy: 0.3469 - val_loss: 9.1999 - val_accuracy: 0.4000\n",
      "Epoch 57/100\n",
      "320/320 [==============================] - 0s 197us/sample - loss: 10.0145 - accuracy: 0.3469 - val_loss: 9.1999 - val_accuracy: 0.4000\n",
      "Epoch 58/100\n",
      "320/320 [==============================] - 0s 179us/sample - loss: 10.0145 - accuracy: 0.3469 - val_loss: 9.1999 - val_accuracy: 0.4000\n",
      "Epoch 59/100\n",
      "320/320 [==============================] - 0s 191us/sample - loss: 10.0145 - accuracy: 0.3469 - val_loss: 9.1999 - val_accuracy: 0.4000\n",
      "Epoch 60/100\n",
      "320/320 [==============================] - 0s 183us/sample - loss: 10.0145 - accuracy: 0.3469 - val_loss: 9.1999 - val_accuracy: 0.4000\n",
      "Epoch 61/100\n",
      "320/320 [==============================] - 0s 183us/sample - loss: 10.0145 - accuracy: 0.3469 - val_loss: 9.1999 - val_accuracy: 0.4000\n",
      "Epoch 62/100\n",
      "320/320 [==============================] - 0s 190us/sample - loss: 10.0145 - accuracy: 0.3469 - val_loss: 9.1999 - val_accuracy: 0.4000\n",
      "Epoch 63/100\n",
      "320/320 [==============================] - 0s 185us/sample - loss: 10.0145 - accuracy: 0.3469 - val_loss: 9.1999 - val_accuracy: 0.4000\n",
      "Epoch 64/100\n",
      "320/320 [==============================] - 0s 226us/sample - loss: 10.0145 - accuracy: 0.3469 - val_loss: 9.1999 - val_accuracy: 0.4000\n",
      "Epoch 65/100\n",
      "320/320 [==============================] - 0s 205us/sample - loss: 10.0145 - accuracy: 0.3469 - val_loss: 9.1999 - val_accuracy: 0.4000\n",
      "Epoch 66/100\n",
      "320/320 [==============================] - 0s 213us/sample - loss: 10.0145 - accuracy: 0.3469 - val_loss: 9.1999 - val_accuracy: 0.4000\n",
      "Epoch 67/100\n",
      "320/320 [==============================] - 0s 233us/sample - loss: 10.0145 - accuracy: 0.3469 - val_loss: 9.1999 - val_accuracy: 0.4000\n",
      "Epoch 68/100\n",
      "320/320 [==============================] - 0s 283us/sample - loss: 10.0145 - accuracy: 0.3469 - val_loss: 9.1999 - val_accuracy: 0.4000\n",
      "Epoch 69/100\n",
      "320/320 [==============================] - 0s 247us/sample - loss: 10.0145 - accuracy: 0.3469 - val_loss: 9.1999 - val_accuracy: 0.4000\n",
      "Epoch 70/100\n",
      "320/320 [==============================] - 0s 240us/sample - loss: 10.0145 - accuracy: 0.3469 - val_loss: 9.1999 - val_accuracy: 0.4000\n",
      "Epoch 71/100\n",
      "320/320 [==============================] - 0s 190us/sample - loss: 10.0145 - accuracy: 0.3469 - val_loss: 9.1999 - val_accuracy: 0.4000\n",
      "Epoch 72/100\n",
      "320/320 [==============================] - 0s 196us/sample - loss: 10.0145 - accuracy: 0.3469 - val_loss: 9.1999 - val_accuracy: 0.4000\n",
      "Epoch 73/100\n",
      "320/320 [==============================] - 0s 200us/sample - loss: 10.0145 - accuracy: 0.3469 - val_loss: 9.1999 - val_accuracy: 0.4000\n",
      "Epoch 74/100\n",
      "320/320 [==============================] - 0s 188us/sample - loss: 10.0145 - accuracy: 0.3469 - val_loss: 9.1999 - val_accuracy: 0.4000\n",
      "Epoch 75/100\n",
      "320/320 [==============================] - 0s 239us/sample - loss: 10.0145 - accuracy: 0.3469 - val_loss: 9.1999 - val_accuracy: 0.4000\n",
      "Epoch 76/100\n",
      "320/320 [==============================] - 0s 242us/sample - loss: 10.0145 - accuracy: 0.3469 - val_loss: 9.1999 - val_accuracy: 0.4000\n",
      "Epoch 77/100\n",
      "320/320 [==============================] - 0s 221us/sample - loss: 10.0145 - accuracy: 0.3469 - val_loss: 9.1999 - val_accuracy: 0.4000\n",
      "Epoch 78/100\n",
      "320/320 [==============================] - 0s 213us/sample - loss: 10.0145 - accuracy: 0.3469 - val_loss: 9.1999 - val_accuracy: 0.4000\n",
      "Epoch 79/100\n",
      "320/320 [==============================] - 0s 194us/sample - loss: 10.0145 - accuracy: 0.3469 - val_loss: 9.1999 - val_accuracy: 0.4000\n",
      "Epoch 80/100\n",
      "320/320 [==============================] - 0s 205us/sample - loss: 10.0145 - accuracy: 0.3469 - val_loss: 9.1999 - val_accuracy: 0.4000\n",
      "Epoch 81/100\n",
      "320/320 [==============================] - 0s 240us/sample - loss: 10.0145 - accuracy: 0.3469 - val_loss: 9.1999 - val_accuracy: 0.4000\n",
      "Epoch 82/100\n",
      "320/320 [==============================] - 0s 360us/sample - loss: 10.0145 - accuracy: 0.3469 - val_loss: 9.1999 - val_accuracy: 0.4000\n",
      "Epoch 83/100\n",
      "320/320 [==============================] - 0s 227us/sample - loss: 10.0145 - accuracy: 0.3469 - val_loss: 9.1999 - val_accuracy: 0.4000\n",
      "Epoch 84/100\n",
      "320/320 [==============================] - 0s 236us/sample - loss: 10.0145 - accuracy: 0.3469 - val_loss: 9.1999 - val_accuracy: 0.4000\n",
      "Epoch 85/100\n",
      "320/320 [==============================] - 0s 171us/sample - loss: 10.0145 - accuracy: 0.3469 - val_loss: 9.1999 - val_accuracy: 0.4000\n",
      "Epoch 86/100\n",
      "320/320 [==============================] - 0s 185us/sample - loss: 10.0145 - accuracy: 0.3469 - val_loss: 9.1999 - val_accuracy: 0.4000\n",
      "Epoch 87/100\n",
      "320/320 [==============================] - 0s 192us/sample - loss: 10.0145 - accuracy: 0.3469 - val_loss: 9.1999 - val_accuracy: 0.4000\n",
      "Epoch 88/100\n",
      "320/320 [==============================] - 0s 206us/sample - loss: 10.0145 - accuracy: 0.3469 - val_loss: 9.1999 - val_accuracy: 0.4000\n",
      "Epoch 89/100\n",
      "320/320 [==============================] - 0s 193us/sample - loss: 10.0145 - accuracy: 0.3469 - val_loss: 9.1999 - val_accuracy: 0.4000\n",
      "Epoch 90/100\n",
      "320/320 [==============================] - 0s 194us/sample - loss: 10.0145 - accuracy: 0.3469 - val_loss: 9.1999 - val_accuracy: 0.4000\n",
      "Epoch 91/100\n",
      "320/320 [==============================] - 0s 201us/sample - loss: 10.0145 - accuracy: 0.3469 - val_loss: 9.1999 - val_accuracy: 0.4000\n",
      "Epoch 92/100\n",
      "320/320 [==============================] - 0s 234us/sample - loss: 10.0145 - accuracy: 0.3469 - val_loss: 9.1999 - val_accuracy: 0.4000\n",
      "Epoch 93/100\n",
      "320/320 [==============================] - 0s 244us/sample - loss: 10.0145 - accuracy: 0.3469 - val_loss: 9.1999 - val_accuracy: 0.4000\n",
      "Epoch 94/100\n",
      "320/320 [==============================] - 0s 264us/sample - loss: 10.0145 - accuracy: 0.3469 - val_loss: 9.1999 - val_accuracy: 0.4000\n",
      "Epoch 95/100\n",
      "320/320 [==============================] - 0s 195us/sample - loss: 10.0145 - accuracy: 0.3469 - val_loss: 9.1999 - val_accuracy: 0.4000\n",
      "Epoch 96/100\n",
      "320/320 [==============================] - 0s 210us/sample - loss: 10.0145 - accuracy: 0.3469 - val_loss: 9.1999 - val_accuracy: 0.4000\n",
      "Epoch 97/100\n",
      "320/320 [==============================] - 0s 208us/sample - loss: 10.0145 - accuracy: 0.3469 - val_loss: 9.1999 - val_accuracy: 0.4000\n",
      "Epoch 98/100\n",
      "320/320 [==============================] - 0s 192us/sample - loss: 10.0145 - accuracy: 0.3469 - val_loss: 9.1999 - val_accuracy: 0.4000\n",
      "Epoch 99/100\n",
      "320/320 [==============================] - 0s 185us/sample - loss: 10.0145 - accuracy: 0.3469 - val_loss: 9.1999 - val_accuracy: 0.4000\n",
      "Epoch 100/100\n",
      "320/320 [==============================] - 0s 191us/sample - loss: 10.0145 - accuracy: 0.3469 - val_loss: 9.1999 - val_accuracy: 0.4000\n"
     ]
    }
   ],
   "source": [
    "history=model.fit(X_train,y_train,validation_data=(X_test,y_test), epochs=100)"
   ]
  },
  {
   "cell_type": "code",
   "execution_count": 12,
   "metadata": {},
   "outputs": [
    {
     "data": {
      "text/plain": [
       "[<matplotlib.lines.Line2D at 0x2113c6472c8>]"
      ]
     },
     "execution_count": 12,
     "metadata": {},
     "output_type": "execute_result"
    },
    {
     "data": {
      "image/png": "[encoded data removed]",
      "text/plain": [
       "<Figure size 432x288 with 1 Axes>"
      ]
     },
     "metadata": {
      "needs_background": "light"
     },
     "output_type": "display_data"
    }
   ],
   "source": [
    "plt.plot(history.history['accuracy'])"
   ]
  },
  {
   "cell_type": "code",
   "execution_count": null,
   "metadata": {},
   "outputs": [],
   "source": []
  },
  {
   "cell_type": "code",
   "execution_count": null,
   "metadata": {},
   "outputs": [],
   "source": []
  }
 ],
 "metadata": {
  "kernelspec": {
   "display_name": "base",
   "language": "python",
   "name": "python3"
  },
  "language_info": {
   "codemirror_mode": {
    "name": "ipython",
    "version": 3
   },
   "file_extension": ".py",
   "mimetype": "text/x-python",
   "name": "python",
   "nbconvert_exporter": "python",
   "pygments_lexer": "ipython3",
   "version": "3.7.6"
  }
 },
 "nbformat": 4,
 "nbformat_minor": 2
}
