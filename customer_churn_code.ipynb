{
 "cells": [
  {
   "cell_type": "code",
   "execution_count": null,
   "metadata": {},
   "outputs": [],
   "source": [
    "# Implementing the neural networks from scratch"
   ]
  },
  {
   "cell_type": "code",
   "execution_count": 62,
   "metadata": {},
   "outputs": [],
   "source": [
    "import pandas as pd\n",
    "import tensorflow\n",
    "from tensorflow import keras\n",
    "from tensorflow.keras import Sequential\n",
    "from tensorflow.keras.layers import Dense\n",
    "import numpy as np\n"
   ]
  },
  {
   "cell_type": "code",
   "execution_count": 8,
   "metadata": {},
   "outputs": [],
   "source": [
    "df=pd.read_csv('customer_churn_data.csv')"
   ]
  },
  {
   "cell_type": "code",
   "execution_count": 9,
   "metadata": {},
   "outputs": [
    {
     "data": {
      "text/html": [
       "<div>\n",
       "<style scoped>\n",
       "    .dataframe tbody tr th:only-of-type {\n",
       "        vertical-align: middle;\n",
       "    }\n",
       "\n",
       "    .dataframe tbody tr th {\n",
       "        vertical-align: top;\n",
       "    }\n",
       "\n",
       "    .dataframe thead th {\n",
       "        text-align: right;\n",
       "    }\n",
       "</style>\n",
       "<table border=\"1\" class=\"dataframe\">\n",
       "  <thead>\n",
       "    <tr style=\"text-align: right;\">\n",
       "      <th></th>\n",
       "      <th>RowNumber</th>\n",
       "      <th>CustomerId</th>\n",
       "      <th>Surname</th>\n",
       "      <th>CreditScore</th>\n",
       "      <th>Geography</th>\n",
       "      <th>Gender</th>\n",
       "      <th>Age</th>\n",
       "      <th>Tenure</th>\n",
       "      <th>Balance</th>\n",
       "      <th>NumOfProducts</th>\n",
       "      <th>HasCrCard</th>\n",
       "      <th>IsActiveMember</th>\n",
       "      <th>EstimatedSalary</th>\n",
       "      <th>Exited</th>\n",
       "    </tr>\n",
       "  </thead>\n",
       "  <tbody>\n",
       "    <tr>\n",
       "      <th>0</th>\n",
       "      <td>1</td>\n",
       "      <td>15634602</td>\n",
       "      <td>Hargrave</td>\n",
       "      <td>619</td>\n",
       "      <td>France</td>\n",
       "      <td>Female</td>\n",
       "      <td>42</td>\n",
       "      <td>2</td>\n",
       "      <td>0.00</td>\n",
       "      <td>1</td>\n",
       "      <td>1</td>\n",
       "      <td>1</td>\n",
       "      <td>101348.88</td>\n",
       "      <td>1</td>\n",
       "    </tr>\n",
       "    <tr>\n",
       "      <th>1</th>\n",
       "      <td>2</td>\n",
       "      <td>15647311</td>\n",
       "      <td>Hill</td>\n",
       "      <td>608</td>\n",
       "      <td>Spain</td>\n",
       "      <td>Female</td>\n",
       "      <td>41</td>\n",
       "      <td>1</td>\n",
       "      <td>83807.86</td>\n",
       "      <td>1</td>\n",
       "      <td>0</td>\n",
       "      <td>1</td>\n",
       "      <td>112542.58</td>\n",
       "      <td>0</td>\n",
       "    </tr>\n",
       "    <tr>\n",
       "      <th>2</th>\n",
       "      <td>3</td>\n",
       "      <td>15619304</td>\n",
       "      <td>Onio</td>\n",
       "      <td>502</td>\n",
       "      <td>France</td>\n",
       "      <td>Female</td>\n",
       "      <td>42</td>\n",
       "      <td>8</td>\n",
       "      <td>159660.80</td>\n",
       "      <td>3</td>\n",
       "      <td>1</td>\n",
       "      <td>0</td>\n",
       "      <td>113931.57</td>\n",
       "      <td>1</td>\n",
       "    </tr>\n",
       "    <tr>\n",
       "      <th>3</th>\n",
       "      <td>4</td>\n",
       "      <td>15701354</td>\n",
       "      <td>Boni</td>\n",
       "      <td>699</td>\n",
       "      <td>France</td>\n",
       "      <td>Female</td>\n",
       "      <td>39</td>\n",
       "      <td>1</td>\n",
       "      <td>0.00</td>\n",
       "      <td>2</td>\n",
       "      <td>0</td>\n",
       "      <td>0</td>\n",
       "      <td>93826.63</td>\n",
       "      <td>0</td>\n",
       "    </tr>\n",
       "    <tr>\n",
       "      <th>4</th>\n",
       "      <td>5</td>\n",
       "      <td>15737888</td>\n",
       "      <td>Mitchell</td>\n",
       "      <td>850</td>\n",
       "      <td>Spain</td>\n",
       "      <td>Female</td>\n",
       "      <td>43</td>\n",
       "      <td>2</td>\n",
       "      <td>125510.82</td>\n",
       "      <td>1</td>\n",
       "      <td>1</td>\n",
       "      <td>1</td>\n",
       "      <td>79084.10</td>\n",
       "      <td>0</td>\n",
       "    </tr>\n",
       "  </tbody>\n",
       "</table>\n",
       "</div>"
      ],
      "text/plain": [
       "   RowNumber  CustomerId   Surname  CreditScore Geography  Gender  Age  \\\n",
       "0          1    15634602  Hargrave          619    France  Female   42   \n",
       "1          2    15647311      Hill          608     Spain  Female   41   \n",
       "2          3    15619304      Onio          502    France  Female   42   \n",
       "3          4    15701354      Boni          699    France  Female   39   \n",
       "4          5    15737888  Mitchell          850     Spain  Female   43   \n",
       "\n",
       "   Tenure    Balance  NumOfProducts  HasCrCard  IsActiveMember  \\\n",
       "0       2       0.00              1          1               1   \n",
       "1       1   83807.86              1          0               1   \n",
       "2       8  159660.80              3          1               0   \n",
       "3       1       0.00              2          0               0   \n",
       "4       2  125510.82              1          1               1   \n",
       "\n",
       "   EstimatedSalary  Exited  \n",
       "0        101348.88       1  \n",
       "1        112542.58       0  \n",
       "2        113931.57       1  \n",
       "3         93826.63       0  \n",
       "4         79084.10       0  "
      ]
     },
     "execution_count": 9,
     "metadata": {},
     "output_type": "execute_result"
    }
   ],
   "source": [
    "df.shape\n",
    "df.head()\n"
   ]
  },
  {
   "cell_type": "code",
   "execution_count": 10,
   "metadata": {},
   "outputs": [
    {
     "name": "stdout",
     "output_type": "stream",
     "text": [
      "<class 'pandas.core.frame.DataFrame'>\n",
      "RangeIndex: 10000 entries, 0 to 9999\n",
      "Data columns (total 14 columns):\n",
      " #   Column           Non-Null Count  Dtype  \n",
      "---  ------           --------------  -----  \n",
      " 0   RowNumber        10000 non-null  int64  \n",
      " 1   CustomerId       10000 non-null  int64  \n",
      " 2   Surname          10000 non-null  object \n",
      " 3   CreditScore      10000 non-null  int64  \n",
      " 4   Geography        10000 non-null  object \n",
      " 5   Gender           10000 non-null  object \n",
      " 6   Age              10000 non-null  int64  \n",
      " 7   Tenure           10000 non-null  int64  \n",
      " 8   Balance          10000 non-null  float64\n",
      " 9   NumOfProducts    10000 non-null  int64  \n",
      " 10  HasCrCard        10000 non-null  int64  \n",
      " 11  IsActiveMember   10000 non-null  int64  \n",
      " 12  EstimatedSalary  10000 non-null  float64\n",
      " 13  Exited           10000 non-null  int64  \n",
      "dtypes: float64(2), int64(9), object(3)\n",
      "memory usage: 1.1+ MB\n"
     ]
    }
   ],
   "source": [
    "df.info()"
   ]
  },
  {
   "cell_type": "code",
   "execution_count": 11,
   "metadata": {},
   "outputs": [
    {
     "data": {
      "text/plain": [
       "0"
      ]
     },
     "execution_count": 11,
     "metadata": {},
     "output_type": "execute_result"
    }
   ],
   "source": [
    "df.duplicated().sum()"
   ]
  },
  {
   "cell_type": "code",
   "execution_count": 12,
   "metadata": {},
   "outputs": [
    {
     "data": {
      "text/plain": [
       "0    7963\n",
       "1    2037\n",
       "Name: Exited, dtype: int64"
      ]
     },
     "execution_count": 12,
     "metadata": {},
     "output_type": "execute_result"
    }
   ],
   "source": [
    "df['Exited'].value_counts()"
   ]
  },
  {
   "cell_type": "code",
   "execution_count": 13,
   "metadata": {},
   "outputs": [
    {
     "data": {
      "text/plain": [
       "France     5014\n",
       "Germany    2509\n",
       "Spain      2477\n",
       "Name: Geography, dtype: int64"
      ]
     },
     "execution_count": 13,
     "metadata": {},
     "output_type": "execute_result"
    }
   ],
   "source": [
    "df['Geography'].value_counts()"
   ]
  },
  {
   "cell_type": "code",
   "execution_count": 14,
   "metadata": {},
   "outputs": [],
   "source": [
    "df.drop(columns=['RowNumber','CustomerId','Surname'], inplace = True)"
   ]
  },
  {
   "cell_type": "code",
   "execution_count": 15,
   "metadata": {},
   "outputs": [
    {
     "data": {
      "text/html": [
       "<div>\n",
       "<style scoped>\n",
       "    .dataframe tbody tr th:only-of-type {\n",
       "        vertical-align: middle;\n",
       "    }\n",
       "\n",
       "    .dataframe tbody tr th {\n",
       "        vertical-align: top;\n",
       "    }\n",
       "\n",
       "    .dataframe thead th {\n",
       "        text-align: right;\n",
       "    }\n",
       "</style>\n",
       "<table border=\"1\" class=\"dataframe\">\n",
       "  <thead>\n",
       "    <tr style=\"text-align: right;\">\n",
       "      <th></th>\n",
       "      <th>CreditScore</th>\n",
       "      <th>Geography</th>\n",
       "      <th>Gender</th>\n",
       "      <th>Age</th>\n",
       "      <th>Tenure</th>\n",
       "      <th>Balance</th>\n",
       "      <th>NumOfProducts</th>\n",
       "      <th>HasCrCard</th>\n",
       "      <th>IsActiveMember</th>\n",
       "      <th>EstimatedSalary</th>\n",
       "      <th>Exited</th>\n",
       "    </tr>\n",
       "  </thead>\n",
       "  <tbody>\n",
       "    <tr>\n",
       "      <th>0</th>\n",
       "      <td>619</td>\n",
       "      <td>France</td>\n",
       "      <td>Female</td>\n",
       "      <td>42</td>\n",
       "      <td>2</td>\n",
       "      <td>0.00</td>\n",
       "      <td>1</td>\n",
       "      <td>1</td>\n",
       "      <td>1</td>\n",
       "      <td>101348.88</td>\n",
       "      <td>1</td>\n",
       "    </tr>\n",
       "    <tr>\n",
       "      <th>1</th>\n",
       "      <td>608</td>\n",
       "      <td>Spain</td>\n",
       "      <td>Female</td>\n",
       "      <td>41</td>\n",
       "      <td>1</td>\n",
       "      <td>83807.86</td>\n",
       "      <td>1</td>\n",
       "      <td>0</td>\n",
       "      <td>1</td>\n",
       "      <td>112542.58</td>\n",
       "      <td>0</td>\n",
       "    </tr>\n",
       "    <tr>\n",
       "      <th>2</th>\n",
       "      <td>502</td>\n",
       "      <td>France</td>\n",
       "      <td>Female</td>\n",
       "      <td>42</td>\n",
       "      <td>8</td>\n",
       "      <td>159660.80</td>\n",
       "      <td>3</td>\n",
       "      <td>1</td>\n",
       "      <td>0</td>\n",
       "      <td>113931.57</td>\n",
       "      <td>1</td>\n",
       "    </tr>\n",
       "    <tr>\n",
       "      <th>3</th>\n",
       "      <td>699</td>\n",
       "      <td>France</td>\n",
       "      <td>Female</td>\n",
       "      <td>39</td>\n",
       "      <td>1</td>\n",
       "      <td>0.00</td>\n",
       "      <td>2</td>\n",
       "      <td>0</td>\n",
       "      <td>0</td>\n",
       "      <td>93826.63</td>\n",
       "      <td>0</td>\n",
       "    </tr>\n",
       "    <tr>\n",
       "      <th>4</th>\n",
       "      <td>850</td>\n",
       "      <td>Spain</td>\n",
       "      <td>Female</td>\n",
       "      <td>43</td>\n",
       "      <td>2</td>\n",
       "      <td>125510.82</td>\n",
       "      <td>1</td>\n",
       "      <td>1</td>\n",
       "      <td>1</td>\n",
       "      <td>79084.10</td>\n",
       "      <td>0</td>\n",
       "    </tr>\n",
       "  </tbody>\n",
       "</table>\n",
       "</div>"
      ],
      "text/plain": [
       "   CreditScore Geography  Gender  Age  Tenure    Balance  NumOfProducts  \\\n",
       "0          619    France  Female   42       2       0.00              1   \n",
       "1          608     Spain  Female   41       1   83807.86              1   \n",
       "2          502    France  Female   42       8  159660.80              3   \n",
       "3          699    France  Female   39       1       0.00              2   \n",
       "4          850     Spain  Female   43       2  125510.82              1   \n",
       "\n",
       "   HasCrCard  IsActiveMember  EstimatedSalary  Exited  \n",
       "0          1               1        101348.88       1  \n",
       "1          0               1        112542.58       0  \n",
       "2          1               0        113931.57       1  \n",
       "3          0               0         93826.63       0  \n",
       "4          1               1         79084.10       0  "
      ]
     },
     "execution_count": 15,
     "metadata": {},
     "output_type": "execute_result"
    }
   ],
   "source": [
    "df.head()"
   ]
  },
  {
   "cell_type": "code",
   "execution_count": 49,
   "metadata": {},
   "outputs": [],
   "source": [
    "df=pd.get_dummies(df,columns=['Geography',\"Gender\"], drop_first=True)"
   ]
  },
  {
   "cell_type": "code",
   "execution_count": 50,
   "metadata": {},
   "outputs": [],
   "source": [
    "from sklearn.model_selection import train_test_split\n",
    "X=df.drop(columns=['Exited'])\n",
    "y=df['Exited']\n",
    "X_train,X_test,y_train,y_test=train_test_split(X,y,test_size=0.2,random_state=1)\n"
   ]
  },
  {
   "cell_type": "code",
   "execution_count": 51,
   "metadata": {},
   "outputs": [
    {
     "name": "stdout",
     "output_type": "stream",
     "text": [
      "<class 'pandas.core.frame.DataFrame'>\n",
      "Int64Index: 2000 entries, 9953 to 2745\n",
      "Data columns (total 11 columns):\n",
      " #   Column             Non-Null Count  Dtype  \n",
      "---  ------             --------------  -----  \n",
      " 0   CreditScore        2000 non-null   int64  \n",
      " 1   Age                2000 non-null   int64  \n",
      " 2   Tenure             2000 non-null   int64  \n",
      " 3   Balance            2000 non-null   float64\n",
      " 4   NumOfProducts      2000 non-null   int64  \n",
      " 5   HasCrCard          2000 non-null   int64  \n",
      " 6   IsActiveMember     2000 non-null   int64  \n",
      " 7   EstimatedSalary    2000 non-null   float64\n",
      " 8   Geography_Germany  2000 non-null   uint8  \n",
      " 9   Geography_Spain    2000 non-null   uint8  \n",
      " 10  Gender_Male        2000 non-null   uint8  \n",
      "dtypes: float64(2), int64(6), uint8(3)\n",
      "memory usage: 146.5 KB\n"
     ]
    }
   ],
   "source": [
    "X_test.info()"
   ]
  },
  {
   "cell_type": "code",
   "execution_count": 52,
   "metadata": {},
   "outputs": [],
   "source": [
    "from sklearn.preprocessing import StandardScaler\n",
    "scaler=StandardScaler()\n",
    "\n",
    "X_train_scaled=scaler.fit_transform(X_train)\n",
    "X_test_scaled=scaler.fit_transform(X_test)"
   ]
  },
  {
   "cell_type": "code",
   "execution_count": 65,
   "metadata": {},
   "outputs": [],
   "source": [
    "model=Sequential()\n",
    "\n",
    "model.add(Dense(5,activation='relu', input_dim=11))\n",
    "model.add(Dense(3,activation='sigmoid'))\n",
    "model.add(Dense(1,activation='sigmoid'))"
   ]
  },
  {
   "cell_type": "code",
   "execution_count": 66,
   "metadata": {},
   "outputs": [
    {
     "name": "stdout",
     "output_type": "stream",
     "text": [
      "Model: \"sequential_1\"\n",
      "_________________________________________________________________\n",
      "Layer (type)                 Output Shape              Param #   \n",
      "=================================================================\n",
      "dense_2 (Dense)              (None, 5)                 60        \n",
      "_________________________________________________________________\n",
      "dense_3 (Dense)              (None, 3)                 18        \n",
      "_________________________________________________________________\n",
      "dense_4 (Dense)              (None, 1)                 4         \n",
      "=================================================================\n",
      "Total params: 82\n",
      "Trainable params: 82\n",
      "Non-trainable params: 0\n",
      "_________________________________________________________________\n"
     ]
    }
   ],
   "source": [
    "model.summary()"
   ]
  },
  {
   "cell_type": "code",
   "execution_count": 68,
   "metadata": {},
   "outputs": [],
   "source": [
    "model.compile(loss='binary_crossentropy',optimizer='adam',metrics=['accuracy'])"
   ]
  },
  {
   "cell_type": "code",
   "execution_count": 82,
   "metadata": {},
   "outputs": [
    {
     "name": "stdout",
     "output_type": "stream",
     "text": [
      "Train on 6400 samples, validate on 1600 samples\n",
      "Epoch 1/30\n",
      " 576/6400 [=>............................] - ETA: 1s - loss: 0.4325 - accuracy: 0.8108"
     ]
    },
    {
     "name": "stdout",
     "output_type": "stream",
     "text": [
      "6400/6400 [==============================] - 1s 193us/sample - loss: 0.3719 - accuracy: 0.8473 - val_loss: 0.3765 - val_accuracy: 0.8413\n",
      "Epoch 2/30\n",
      "6400/6400 [==============================] - 1s 202us/sample - loss: 0.3694 - accuracy: 0.8473 - val_loss: 0.3739 - val_accuracy: 0.8400\n",
      "Epoch 3/30\n",
      "6400/6400 [==============================] - 1s 197us/sample - loss: 0.3672 - accuracy: 0.8497 - val_loss: 0.3713 - val_accuracy: 0.8425\n",
      "Epoch 4/30\n",
      "6400/6400 [==============================] - 1s 234us/sample - loss: 0.3652 - accuracy: 0.8491 - val_loss: 0.3690 - val_accuracy: 0.8413\n",
      "Epoch 5/30\n",
      "6400/6400 [==============================] - 1s 175us/sample - loss: 0.3631 - accuracy: 0.8511 - val_loss: 0.3673 - val_accuracy: 0.8444\n",
      "Epoch 6/30\n",
      "6400/6400 [==============================] - 1s 197us/sample - loss: 0.3613 - accuracy: 0.8539 - val_loss: 0.3649 - val_accuracy: 0.8450\n",
      "Epoch 7/30\n",
      "6400/6400 [==============================] - 1s 203us/sample - loss: 0.3593 - accuracy: 0.8542 - val_loss: 0.3625 - val_accuracy: 0.8450\n",
      "Epoch 8/30\n",
      "6400/6400 [==============================] - 1s 201us/sample - loss: 0.3576 - accuracy: 0.8564 - val_loss: 0.3610 - val_accuracy: 0.8487\n",
      "Epoch 9/30\n",
      "6400/6400 [==============================] - 1s 226us/sample - loss: 0.3560 - accuracy: 0.8578 - val_loss: 0.3590 - val_accuracy: 0.8475\n",
      "Epoch 10/30\n",
      "6400/6400 [==============================] - 2s 235us/sample - loss: 0.3547 - accuracy: 0.8575 - val_loss: 0.3571 - val_accuracy: 0.8469\n",
      "Epoch 11/30\n",
      "6400/6400 [==============================] - 1s 196us/sample - loss: 0.3531 - accuracy: 0.8581 - val_loss: 0.3560 - val_accuracy: 0.8475\n",
      "Epoch 12/30\n",
      "6400/6400 [==============================] - 1s 226us/sample - loss: 0.3518 - accuracy: 0.8583 - val_loss: 0.3540 - val_accuracy: 0.8481\n",
      "Epoch 13/30\n",
      "6400/6400 [==============================] - 1s 216us/sample - loss: 0.3508 - accuracy: 0.8589 - val_loss: 0.3528 - val_accuracy: 0.8450\n",
      "Epoch 14/30\n",
      "6400/6400 [==============================] - 1s 184us/sample - loss: 0.3500 - accuracy: 0.8587 - val_loss: 0.3515 - val_accuracy: 0.8481\n",
      "Epoch 15/30\n",
      "6400/6400 [==============================] - 1s 222us/sample - loss: 0.3489 - accuracy: 0.8584 - val_loss: 0.3512 - val_accuracy: 0.8444\n",
      "Epoch 16/30\n",
      "6400/6400 [==============================] - 1s 201us/sample - loss: 0.3479 - accuracy: 0.8594 - val_loss: 0.3511 - val_accuracy: 0.8469\n",
      "Epoch 17/30\n",
      "6400/6400 [==============================] - 1s 187us/sample - loss: 0.3474 - accuracy: 0.8603 - val_loss: 0.3493 - val_accuracy: 0.8462\n",
      "Epoch 18/30\n",
      "6400/6400 [==============================] - 1s 224us/sample - loss: 0.3465 - accuracy: 0.8612 - val_loss: 0.3487 - val_accuracy: 0.8456\n",
      "Epoch 19/30\n",
      "6400/6400 [==============================] - 1s 181us/sample - loss: 0.3459 - accuracy: 0.8589 - val_loss: 0.3478 - val_accuracy: 0.8450\n",
      "Epoch 20/30\n",
      "6400/6400 [==============================] - 1s 201us/sample - loss: 0.3455 - accuracy: 0.8612 - val_loss: 0.3473 - val_accuracy: 0.8444\n",
      "Epoch 21/30\n",
      "6400/6400 [==============================] - 1s 205us/sample - loss: 0.3448 - accuracy: 0.8611 - val_loss: 0.3465 - val_accuracy: 0.8494\n",
      "Epoch 22/30\n",
      "6400/6400 [==============================] - 1s 198us/sample - loss: 0.3443 - accuracy: 0.8625 - val_loss: 0.3462 - val_accuracy: 0.8494\n",
      "Epoch 23/30\n",
      "6400/6400 [==============================] - ETA: 0s - loss: 0.3430 - accuracy: 0.86 - 1s 183us/sample - loss: 0.3439 - accuracy: 0.8619 - val_loss: 0.3473 - val_accuracy: 0.8450\n",
      "Epoch 24/30\n",
      "6400/6400 [==============================] - 1s 183us/sample - loss: 0.3432 - accuracy: 0.8616 - val_loss: 0.3459 - val_accuracy: 0.8487\n",
      "Epoch 25/30\n",
      "6400/6400 [==============================] - 1s 217us/sample - loss: 0.3430 - accuracy: 0.8617 - val_loss: 0.3451 - val_accuracy: 0.8494\n",
      "Epoch 26/30\n",
      "6400/6400 [==============================] - 1s 185us/sample - loss: 0.3425 - accuracy: 0.8614 - val_loss: 0.3460 - val_accuracy: 0.8475\n",
      "Epoch 27/30\n",
      "6400/6400 [==============================] - 2s 249us/sample - loss: 0.3424 - accuracy: 0.8627 - val_loss: 0.3448 - val_accuracy: 0.8500\n",
      "Epoch 28/30\n",
      "6400/6400 [==============================] - 1s 181us/sample - loss: 0.3418 - accuracy: 0.8628 - val_loss: 0.3450 - val_accuracy: 0.8469\n",
      "Epoch 29/30\n",
      "6400/6400 [==============================] - 1s 227us/sample - loss: 0.3416 - accuracy: 0.8628 - val_loss: 0.3445 - val_accuracy: 0.8481\n",
      "Epoch 30/30\n",
      "6400/6400 [==============================] - 2s 244us/sample - loss: 0.3411 - accuracy: 0.8628 - val_loss: 0.3431 - val_accuracy: 0.8519\n"
     ]
    }
   ],
   "source": [
    "history = model.fit(X_train_scaled,y_train,epochs=30,validation_split=0.2)"
   ]
  },
  {
   "cell_type": "code",
   "execution_count": 72,
   "metadata": {},
   "outputs": [
    {
     "data": {
      "text/plain": [
       "[array([[-0.9066742 , -0.73724365,  0.5072259 ],\n",
       "        [ 0.3035268 ,  0.9036738 , -0.43374854],\n",
       "        [-1.1918006 , -1.3012422 ,  1.3059602 ],\n",
       "        [ 0.48307878,  0.85902387, -1.1162188 ],\n",
       "        [ 0.6822586 ,  1.3638945 , -0.3962931 ]], dtype=float32),\n",
       " array([ 0.25884724,  0.5713998 , -0.437252  ], dtype=float32)]"
      ]
     },
     "execution_count": 72,
     "metadata": {},
     "output_type": "execute_result"
    }
   ],
   "source": [
    "model.layers[1].get_weights()"
   ]
  },
  {
   "cell_type": "code",
   "execution_count": 73,
   "metadata": {},
   "outputs": [],
   "source": [
    "y_log=model.predict(X_test_scaled)"
   ]
  },
  {
   "cell_type": "code",
   "execution_count": 80,
   "metadata": {},
   "outputs": [],
   "source": [
    "y_pred=np.where(y_log>=0.5,1,0)"
   ]
  },
  {
   "cell_type": "code",
   "execution_count": 81,
   "metadata": {},
   "outputs": [
    {
     "data": {
      "text/plain": [
       "0.854"
      ]
     },
     "execution_count": 81,
     "metadata": {},
     "output_type": "execute_result"
    }
   ],
   "source": [
    "from sklearn.metrics import accuracy_score\n",
    "accuracy_score(y_test,y_pred)"
   ]
  },
  {
   "cell_type": "code",
   "execution_count": 83,
   "metadata": {},
   "outputs": [
    {
     "name": "stdout",
     "output_type": "stream",
     "text": [
      "\n",
      "Caching the list of root modules, please wait!\n",
      "(This will only be done once - type '%rehashx' to reset cache!)\n",
      "\n"
     ]
    }
   ],
   "source": [
    "import matplotlib.pyplot as plt"
   ]
  },
  {
   "cell_type": "code",
   "execution_count": 85,
   "metadata": {},
   "outputs": [
    {
     "data": {
      "text/plain": [
       "{'loss': [0.3718600753694773,\n",
       "  0.36944712497293947,\n",
       "  0.36722479440271855,\n",
       "  0.36520282879471777,\n",
       "  0.36308921545743944,\n",
       "  0.36131966311484576,\n",
       "  0.3592965914309025,\n",
       "  0.3576196148991585,\n",
       "  0.35603700287640094,\n",
       "  0.3546610067039728,\n",
       "  0.35314296461641786,\n",
       "  0.3518007964640856,\n",
       "  0.35083367593586445,\n",
       "  0.34999766282737255,\n",
       "  0.34891702853143214,\n",
       "  0.3479417863488197,\n",
       "  0.3474202460795641,\n",
       "  0.346542551741004,\n",
       "  0.34588154464960097,\n",
       "  0.3454506167396903,\n",
       "  0.3447829318791628,\n",
       "  0.3442697262018919,\n",
       "  0.34392405189573766,\n",
       "  0.34317819826304913,\n",
       "  0.342972097992897,\n",
       "  0.3425075881183147,\n",
       "  0.34241720974445344,\n",
       "  0.3418459426984191,\n",
       "  0.34162075772881506,\n",
       "  0.34112581726163627],\n",
       " 'accuracy': [0.84734374,\n",
       "  0.84734374,\n",
       "  0.8496875,\n",
       "  0.8490625,\n",
       "  0.85109377,\n",
       "  0.8539063,\n",
       "  0.8542187,\n",
       "  0.8564063,\n",
       "  0.8578125,\n",
       "  0.8575,\n",
       "  0.858125,\n",
       "  0.85828125,\n",
       "  0.85890627,\n",
       "  0.85875,\n",
       "  0.8584375,\n",
       "  0.859375,\n",
       "  0.8603125,\n",
       "  0.86125,\n",
       "  0.85890627,\n",
       "  0.86125,\n",
       "  0.86109376,\n",
       "  0.8625,\n",
       "  0.861875,\n",
       "  0.8615625,\n",
       "  0.8617188,\n",
       "  0.86140627,\n",
       "  0.86265624,\n",
       "  0.8628125,\n",
       "  0.8628125,\n",
       "  0.8628125],\n",
       " 'val_loss': [0.37645047664642334,\n",
       "  0.3739232122898102,\n",
       "  0.3713212925195694,\n",
       "  0.3689984726905823,\n",
       "  0.36731316208839415,\n",
       "  0.3648676064610481,\n",
       "  0.3624517023563385,\n",
       "  0.36101994901895523,\n",
       "  0.3590248534083366,\n",
       "  0.3570506635308266,\n",
       "  0.3559578540921211,\n",
       "  0.35395769864320753,\n",
       "  0.3527750506997108,\n",
       "  0.35145332515239713,\n",
       "  0.3512126263976097,\n",
       "  0.3510804098844528,\n",
       "  0.3493309301137924,\n",
       "  0.34868988633155823,\n",
       "  0.34777081191539766,\n",
       "  0.3472916749119759,\n",
       "  0.3464609402418137,\n",
       "  0.34618009626865387,\n",
       "  0.3472722527384758,\n",
       "  0.34587665855884553,\n",
       "  0.3450844451785088,\n",
       "  0.3460494729876518,\n",
       "  0.34478865027427674,\n",
       "  0.34503686130046846,\n",
       "  0.34452194154262544,\n",
       "  0.3431334230303764],\n",
       " 'val_accuracy': [0.84125,\n",
       "  0.84,\n",
       "  0.8425,\n",
       "  0.84125,\n",
       "  0.844375,\n",
       "  0.845,\n",
       "  0.845,\n",
       "  0.84875,\n",
       "  0.8475,\n",
       "  0.846875,\n",
       "  0.8475,\n",
       "  0.848125,\n",
       "  0.845,\n",
       "  0.848125,\n",
       "  0.844375,\n",
       "  0.846875,\n",
       "  0.84625,\n",
       "  0.845625,\n",
       "  0.845,\n",
       "  0.844375,\n",
       "  0.849375,\n",
       "  0.849375,\n",
       "  0.845,\n",
       "  0.84875,\n",
       "  0.849375,\n",
       "  0.8475,\n",
       "  0.85,\n",
       "  0.846875,\n",
       "  0.848125,\n",
       "  0.851875]}"
      ]
     },
     "execution_count": 85,
     "metadata": {},
     "output_type": "execute_result"
    }
   ],
   "source": [
    "history.history"
   ]
  },
  {
   "cell_type": "code",
   "execution_count": 87,
   "metadata": {},
   "outputs": [
    {
     "data": {
      "text/plain": [
       "[<matplotlib.lines.Line2D at 0x1872675b108>]"
      ]
     },
     "execution_count": 87,
     "metadata": {},
     "output_type": "execute_result"
    },
    {
     "data": {
      "image/png": "[encoded data removed]",
      "text/plain": [
       "<Figure size 432x288 with 1 Axes>"
      ]
     },
     "metadata": {
      "needs_background": "light"
     },
     "output_type": "display_data"
    }
   ],
   "source": [
    "plt.plot(history.history['loss'])\n",
    "plt.plot(history.history['val_loss'])"
   ]
  },
  {
   "cell_type": "code",
   "execution_count": 88,
   "metadata": {},
   "outputs": [
    {
     "data": {
      "text/plain": [
       "[<matplotlib.lines.Line2D at 0x1872574e5c8>]"
      ]
     },
     "execution_count": 88,
     "metadata": {},
     "output_type": "execute_result"
    },
    {
     "data": {
      "image/png": "[encoded data removed]",
      "text/plain": [
       "<Figure size 432x288 with 1 Axes>"
      ]
     },
     "metadata": {
      "needs_background": "light"
     },
     "output_type": "display_data"
    }
   ],
   "source": [
    "plt.plot(history.history['accuracy'])\n",
    "plt.plot(history.history['val_accuracy'])"
   ]
  }
 ],
 "metadata": {
  "kernelspec": {
   "display_name": "Python 3",
   "language": "python",
   "name": "python3"
  },
  "language_info": {
   "codemirror_mode": {
    "name": "ipython",
    "version": 3
   },
   "file_extension": ".py",
   "mimetype": "text/x-python",
   "name": "python",
   "nbconvert_exporter": "python",
   "pygments_lexer": "ipython3",
   "version": "3.7.6"
  }
 },
 "nbformat": 4,
 "nbformat_minor": 2
}
