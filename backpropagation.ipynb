{
 "cells": [
  {
   "cell_type": "code",
   "execution_count": 1,
   "metadata": {},
   "outputs": [],
   "source": [
    "import numpy as np\n",
    "import pandas as pd"
   ]
  },
  {
   "cell_type": "code",
   "execution_count": 2,
   "metadata": {},
   "outputs": [],
   "source": [
    "df=pd.DataFrame([[8,8,4],[7,9,5],[6,10,6],[5,12,7]], columns=['cgpa','profile_score','lpa'])"
   ]
  },
  {
   "cell_type": "code",
   "execution_count": 3,
   "metadata": {},
   "outputs": [
    {
     "data": {
      "text/html": [
       "<div>\n",
       "<style scoped>\n",
       "    .dataframe tbody tr th:only-of-type {\n",
       "        vertical-align: middle;\n",
       "    }\n",
       "\n",
       "    .dataframe tbody tr th {\n",
       "        vertical-align: top;\n",
       "    }\n",
       "\n",
       "    .dataframe thead th {\n",
       "        text-align: right;\n",
       "    }\n",
       "</style>\n",
       "<table border=\"1\" class=\"dataframe\">\n",
       "  <thead>\n",
       "    <tr style=\"text-align: right;\">\n",
       "      <th></th>\n",
       "      <th>cgpa</th>\n",
       "      <th>profile_score</th>\n",
       "      <th>lpa</th>\n",
       "    </tr>\n",
       "  </thead>\n",
       "  <tbody>\n",
       "    <tr>\n",
       "      <th>0</th>\n",
       "      <td>8</td>\n",
       "      <td>8</td>\n",
       "      <td>4</td>\n",
       "    </tr>\n",
       "    <tr>\n",
       "      <th>1</th>\n",
       "      <td>7</td>\n",
       "      <td>9</td>\n",
       "      <td>5</td>\n",
       "    </tr>\n",
       "    <tr>\n",
       "      <th>2</th>\n",
       "      <td>6</td>\n",
       "      <td>10</td>\n",
       "      <td>6</td>\n",
       "    </tr>\n",
       "    <tr>\n",
       "      <th>3</th>\n",
       "      <td>5</td>\n",
       "      <td>12</td>\n",
       "      <td>7</td>\n",
       "    </tr>\n",
       "  </tbody>\n",
       "</table>\n",
       "</div>"
      ],
      "text/plain": [
       "   cgpa  profile_score  lpa\n",
       "0     8              8    4\n",
       "1     7              9    5\n",
       "2     6             10    6\n",
       "3     5             12    7"
      ]
     },
     "execution_count": 3,
     "metadata": {},
     "output_type": "execute_result"
    }
   ],
   "source": [
    "df"
   ]
  },
  {
   "cell_type": "code",
   "execution_count": 6,
   "metadata": {},
   "outputs": [],
   "source": [
    "def initalize_parameters(layer_dims):\n",
    "    np.random.seed(4)\n",
    "    parameters={}\n",
    "    L=len(layer_dims)\n",
    "\n",
    "    for l in range(1,L):\n",
    "        parameters['W'+str(l)]=np.ones((layer_dims[l-1],layer_dims[l]))*0.1\n",
    "        parameters['b'+str(l)]=np.zeros((layer_dims[l],1))\n",
    "    return parameters"
   ]
  },
  {
   "cell_type": "code",
   "execution_count": 7,
   "metadata": {},
   "outputs": [
    {
     "data": {
      "text/plain": [
       "{'W1': array([[0.1, 0.1],\n",
       "        [0.1, 0.1]]),\n",
       " 'b1': array([[0.],\n",
       "        [0.]]),\n",
       " 'W2': array([[0.1],\n",
       "        [0.1]]),\n",
       " 'b2': array([[0.]])}"
      ]
     },
     "execution_count": 7,
     "metadata": {},
     "output_type": "execute_result"
    }
   ],
   "source": [
    "initalize_parameters([2,2,1])"
   ]
  },
  {
   "cell_type": "code",
   "execution_count": 8,
   "metadata": {},
   "outputs": [],
   "source": [
    "def linear_forward(A_prev,W,b):\n",
    "    Z = np.dot(W.T,A_prev)+b\n",
    "\n",
    "    return Z\n",
    "    "
   ]
  },
  {
   "cell_type": "code",
   "execution_count": 64,
   "metadata": {},
   "outputs": [],
   "source": [
    "def L_layer_forward(X,parameters):\n",
    "    A=X\n",
    "    L=len(parameters) //2   # Number of parameters\n",
    "\n",
    "    for l in range(1,L+1):\n",
    "        A_prev=A\n",
    "        W1=parameters['W'+str(l)]\n",
    "        b1=parameters['b'+str(l)]\n",
    "        # print('A'+str(l-1)+': ',A_prev)\n",
    "        # print('W'+str(l)+': ',W1)\n",
    "        # print('b'+str(l)+': ',b1)\n",
    "\n",
    "        # print('--'*20)\n",
    "\n",
    "        A=linear_forward(A_prev,W1,b1)\n",
    "        # print('A'+str(l)+': ',A)\n",
    "        # print('**'*20)\n",
    "\n",
    "    return A,A_prev"
   ]
  },
  {
   "cell_type": "code",
   "execution_count": 27,
   "metadata": {},
   "outputs": [],
   "source": [
    "X=df[['cgpa','profile_score']].values[0].reshape(2,1) # Shape(no. of features, no. of training samples)\n",
    "y=df[['lpa']].values[0][0]\n",
    "\n",
    "parameters=initalize_parameters([2,2,1])"
   ]
  },
  {
   "cell_type": "code",
   "execution_count": 33,
   "metadata": {},
   "outputs": [
    {
     "name": "stdout",
     "output_type": "stream",
     "text": [
      "A0:  [[8]\n",
      " [8]]\n",
      "W1:  [[0.1 0.1]\n",
      " [0.1 0.1]]\n",
      "b1:  [[0.]\n",
      " [0.]]\n",
      "----------------------------------------\n",
      "A1:  [[1.6]\n",
      " [1.6]]\n",
      "****************************************\n",
      "A1:  [[1.6]\n",
      " [1.6]]\n",
      "W2:  [[0.1]\n",
      " [0.1]]\n",
      "b2:  [[0.]]\n",
      "----------------------------------------\n",
      "A2:  [[0.32]]\n",
      "****************************************\n"
     ]
    }
   ],
   "source": [
    "y_hat,A1 = L_layer_forward(X,parameters)"
   ]
  },
  {
   "cell_type": "code",
   "execution_count": 35,
   "metadata": {},
   "outputs": [
    {
     "data": {
      "text/plain": [
       "0.32000000000000006"
      ]
     },
     "execution_count": 35,
     "metadata": {},
     "output_type": "execute_result"
    }
   ],
   "source": [
    "y_hat=y_hat[0][0]"
   ]
  },
  {
   "cell_type": "code",
   "execution_count": 36,
   "metadata": {},
   "outputs": [
    {
     "data": {
      "text/plain": [
       "array([[1.6],\n",
       "       [1.6]])"
      ]
     },
     "execution_count": 36,
     "metadata": {},
     "output_type": "execute_result"
    }
   ],
   "source": [
    "A1\n"
   ]
  },
  {
   "cell_type": "code",
   "execution_count": 29,
   "metadata": {},
   "outputs": [
    {
     "data": {
      "text/plain": [
       "13.5424"
      ]
     },
     "execution_count": 29,
     "metadata": {},
     "output_type": "execute_result"
    }
   ],
   "source": [
    "(y-0.32)**2"
   ]
  },
  {
   "cell_type": "code",
   "execution_count": 41,
   "metadata": {},
   "outputs": [],
   "source": [
    "update_parameters(parameters,y,y_hat,A1,X)"
   ]
  },
  {
   "cell_type": "code",
   "execution_count": 40,
   "metadata": {},
   "outputs": [],
   "source": [
    "def update_parameters(parameters,y,y_hat,A1,X):\n",
    "    # Update parameters using the formula written in Tab notes\n",
    "    parameters['W2'][0][0]=parameters['W2'][0][0]+(0.001*2*(y-y_hat)*A1[0][0])\n",
    "    parameters['W2'][1][0]=parameters['W2'][1][0]+(0.001*2*(y-y_hat)*A1[1][0])\n",
    "    parameters['b2'][0][0]=parameters['W2'][1][0]+(0.001*2*(y-y_hat))\n",
    "\n",
    "    parameters['W1'][0][0]=parameters['W1'][0][0]+(0.001*2*(y-y_hat)*parameters['W2'][0][0]*X[0][0])\n",
    "    parameters['W1'][0][1]=parameters['W1'][0][1]+(0.001*2*(y-y_hat)*parameters['W2'][0][0]*X[1][0])\n",
    "    parameters['b1'][0][0]=parameters['b1'][0][0]+(0.001*2*(y-y_hat)*parameters['W2'][0][0])\n",
    "\n",
    "    parameters['W1'][1][0]=parameters['W1'][1][0]+(0.001*2*(y-y_hat)*parameters['W2'][1][0]*X[0][0])\n",
    "    parameters['W1'][1][1]=parameters['W1'][1][1]+(0.001*2*(y-y_hat)*parameters['W2'][1][0]*X[1][0])\n",
    "    parameters['b1'][1][0]=parameters['b1'][1][0]+(0.001*2*(y-y_hat)*parameters['W2'][1][0])"
   ]
  },
  {
   "cell_type": "code",
   "execution_count": 42,
   "metadata": {},
   "outputs": [
    {
     "data": {
      "text/plain": [
       "{'W1': array([[0.10700971, 0.10700971],\n",
       "        [0.10796811, 0.10796811]]),\n",
       " 'b1': array([[0.00087621],\n",
       "        [0.00099601]]),\n",
       " 'W2': array([[0.11905074],\n",
       "        [0.135328  ]]),\n",
       " 'b2': array([[0.142688]])}"
      ]
     },
     "execution_count": 42,
     "metadata": {},
     "output_type": "execute_result"
    }
   ],
   "source": [
    "parameters"
   ]
  },
  {
   "cell_type": "code",
   "execution_count": 43,
   "metadata": {},
   "outputs": [
    {
     "name": "stdout",
     "output_type": "stream",
     "text": [
      "A0:  [[8]\n",
      " [8]]\n",
      "W1:  [[0.10700971 0.10700971]\n",
      " [0.10796811 0.10796811]]\n",
      "b1:  [[0.00087621]\n",
      " [0.00099601]]\n",
      "----------------------------------------\n",
      "A1:  [[1.72069878]\n",
      " [1.72081858]]\n",
      "****************************************\n",
      "A1:  [[1.72069878]\n",
      " [1.72081858]]\n",
      "W2:  [[0.11905074]\n",
      " [0.135328  ]]\n",
      "b2:  [[0.142688]]\n",
      "----------------------------------------\n",
      "A2:  [[0.5804134]]\n",
      "****************************************\n"
     ]
    }
   ],
   "source": [
    "# 2nd student\n",
    "\n",
    "X=df[['cgpa','profile_score']].values[0].reshape(2,1) # Shape(no. of features, no. of training samples)\n",
    "y=df[['lpa']].values[0][0]\n",
    "\n",
    "y_hat,A1 = L_layer_forward(X,parameters)\n",
    "\n",
    "update_parameters(parameters,y,y_hat,A1,X)\n",
    "\n",
    "parameters"
   ]
  },
  {
   "cell_type": "code",
   "execution_count": 52,
   "metadata": {},
   "outputs": [
    {
     "name": "stdout",
     "output_type": "stream",
     "text": [
      "A0:  [[8]\n",
      " [8]]\n",
      "W1:  [[0.12987418 0.12987418]\n",
      " [0.13343484 0.13343484]]\n",
      "b1:  [[0.00373427]\n",
      " [0.00417935]]\n",
      "----------------------------------------\n",
      "A1:  [[2.11020643]\n",
      " [2.11065151]]\n",
      "****************************************\n",
      "A1:  [[2.11020643]\n",
      " [2.11065151]]\n",
      "W2:  [[0.15588366]\n",
      " [0.17216547]]\n",
      "b2:  [[0.17863943]]\n",
      "----------------------------------------\n",
      "A2:  [[0.87096744]]\n",
      "****************************************\n"
     ]
    },
    {
     "data": {
      "text/plain": [
       "{'W1': array([[0.13833957, 0.13833957],\n",
       "        [0.1427155 , 0.1427155 ]]),\n",
       " 'b1': array([[0.00479245],\n",
       "        [0.00533944]]),\n",
       " 'W2': array([[0.16908946],\n",
       "        [0.18537407]]),\n",
       " 'b2': array([[0.19163213]])}"
      ]
     },
     "execution_count": 52,
     "metadata": {},
     "output_type": "execute_result"
    }
   ],
   "source": [
    "# 3rd student\n",
    "\n",
    "X=df[['cgpa','profile_score']].values[0].reshape(2,1) # Shape(no. of features, no. of training samples)\n",
    "y=df[['lpa']].values[0][0]\n",
    "\n",
    "y_hat,A1 = L_layer_forward(X,parameters)\n",
    "\n",
    "update_parameters(parameters,y,y_hat,A1,X)\n",
    "\n",
    "parameters"
   ]
  },
  {
   "cell_type": "code",
   "execution_count": 49,
   "metadata": {},
   "outputs": [
    {
     "name": "stdout",
     "output_type": "stream",
     "text": [
      "A0:  [[8]\n",
      " [8]]\n",
      "W1:  [[0.12180071 0.12180071]\n",
      " [0.1245181  0.1245181 ]]\n",
      "b1:  [[0.00272509]\n",
      " [0.00306476]]\n",
      "----------------------------------------\n",
      "A1:  [[1.97327553]\n",
      " [1.9736152 ]]\n",
      "****************************************\n",
      "A1:  [[1.97327553]\n",
      " [1.9736152 ]]\n",
      "W2:  [[0.14310875]\n",
      " [0.15938837]]\n",
      "b2:  [[0.1660559]]\n",
      "----------------------------------------\n",
      "A2:  [[0.7630202]]\n",
      "****************************************\n"
     ]
    }
   ],
   "source": [
    "# 4th student\n",
    "\n",
    "X=df[['cgpa','profile_score']].values[0].reshape(2,1) # Shape(no. of features, no. of training samples)\n",
    "y=df[['lpa']].values[0][0]\n",
    "\n",
    "y_hat,A1 = L_layer_forward(X,parameters)\n",
    "\n",
    "update_parameters(parameters,y,y_hat,A1,X)\n",
    "\n",
    "parameters"
   ]
  },
  {
   "cell_type": "code",
   "execution_count": 67,
   "metadata": {},
   "outputs": [
    {
     "name": "stdout",
     "output_type": "stream",
     "text": [
      "Epoch -  1  && Loss -  25.321744156025517\n"
     ]
    },
    {
     "data": {
      "text/plain": [
       "{'W1': array([[0.13482804, 0.15847776],\n",
       "        [0.1349909 , 0.15884991]]),\n",
       " 'b1': array([[0.00569748],\n",
       "        [0.0057292 ]]),\n",
       " 'W2': array([[0.17312488],\n",
       "        [0.17534027]]),\n",
       " 'b2': array([[0.18773702]])}"
      ]
     },
     "execution_count": 67,
     "metadata": {},
     "output_type": "execute_result"
    }
   ],
   "source": [
    "# All program in single cell\n",
    "\n",
    "parameters = initalize_parameters([2,2,1])\n",
    "epochs=1\n",
    "\n",
    "for i in range(epochs):\n",
    "    Loss=[]\n",
    "    for j in range(df.shape[0]):\n",
    "        X=df[['cgpa','profile_score']].values[j].reshape(2,1)\n",
    "        y=df[['lpa']].values[j][0]\n",
    "\n",
    "        y_hat,A1 = L_layer_forward(X,parameters)\n",
    "        y_hat=y_hat[0][0]\n",
    "\n",
    "        update_parameters(parameters,y,y_hat,A1,X)\n",
    "\n",
    "        Loss.append((y-y_hat)**2)\n",
    "        \n",
    "    print('Epoch - ',i+1,' && Loss - ',np.array(Loss).mean())\n",
    "\n",
    "parameters"
   ]
  },
  {
   "cell_type": "code",
   "execution_count": 68,
   "metadata": {},
   "outputs": [],
   "source": [
    "## Same code in Keras"
   ]
  },
  {
   "cell_type": "code",
   "execution_count": 69,
   "metadata": {},
   "outputs": [],
   "source": [
    "df=pd.DataFrame([[8,8,4],[7,9,5],[6,10,6],[5,12,7]],columns=['cgpa','profile_score','lpa'])"
   ]
  },
  {
   "cell_type": "code",
   "execution_count": 70,
   "metadata": {},
   "outputs": [
    {
     "data": {
      "text/html": [
       "<div>\n",
       "<style scoped>\n",
       "    .dataframe tbody tr th:only-of-type {\n",
       "        vertical-align: middle;\n",
       "    }\n",
       "\n",
       "    .dataframe tbody tr th {\n",
       "        vertical-align: top;\n",
       "    }\n",
       "\n",
       "    .dataframe thead th {\n",
       "        text-align: right;\n",
       "    }\n",
       "</style>\n",
       "<table border=\"1\" class=\"dataframe\">\n",
       "  <thead>\n",
       "    <tr style=\"text-align: right;\">\n",
       "      <th></th>\n",
       "      <th>cgpa</th>\n",
       "      <th>profile_score</th>\n",
       "      <th>lpa</th>\n",
       "    </tr>\n",
       "  </thead>\n",
       "  <tbody>\n",
       "    <tr>\n",
       "      <th>0</th>\n",
       "      <td>8</td>\n",
       "      <td>8</td>\n",
       "      <td>4</td>\n",
       "    </tr>\n",
       "    <tr>\n",
       "      <th>1</th>\n",
       "      <td>7</td>\n",
       "      <td>9</td>\n",
       "      <td>5</td>\n",
       "    </tr>\n",
       "    <tr>\n",
       "      <th>2</th>\n",
       "      <td>6</td>\n",
       "      <td>10</td>\n",
       "      <td>6</td>\n",
       "    </tr>\n",
       "    <tr>\n",
       "      <th>3</th>\n",
       "      <td>5</td>\n",
       "      <td>12</td>\n",
       "      <td>7</td>\n",
       "    </tr>\n",
       "  </tbody>\n",
       "</table>\n",
       "</div>"
      ],
      "text/plain": [
       "   cgpa  profile_score  lpa\n",
       "0     8              8    4\n",
       "1     7              9    5\n",
       "2     6             10    6\n",
       "3     5             12    7"
      ]
     },
     "execution_count": 70,
     "metadata": {},
     "output_type": "execute_result"
    }
   ],
   "source": [
    "df"
   ]
  },
  {
   "cell_type": "code",
   "execution_count": 72,
   "metadata": {},
   "outputs": [],
   "source": [
    "import tensorflow\n",
    "from tensorflow import keras\n",
    "from tensorflow.keras import Sequential\n",
    "from tensorflow.keras.layers import Dense"
   ]
  },
  {
   "cell_type": "code",
   "execution_count": 79,
   "metadata": {},
   "outputs": [],
   "source": [
    "model=Sequential()\n",
    "\n",
    "model.add(Dense(2,activation='linear',input_dim=2))\n",
    "model.add(Dense(1,activation='linear'))"
   ]
  },
  {
   "cell_type": "code",
   "execution_count": 80,
   "metadata": {},
   "outputs": [
    {
     "name": "stdout",
     "output_type": "stream",
     "text": [
      "Model: \"sequential_1\"\n",
      "_________________________________________________________________\n",
      "Layer (type)                 Output Shape              Param #   \n",
      "=================================================================\n",
      "dense_2 (Dense)              (None, 2)                 6         \n",
      "_________________________________________________________________\n",
      "dense_3 (Dense)              (None, 1)                 3         \n",
      "=================================================================\n",
      "Total params: 9\n",
      "Trainable params: 9\n",
      "Non-trainable params: 0\n",
      "_________________________________________________________________\n"
     ]
    }
   ],
   "source": [
    "model.summary()"
   ]
  },
  {
   "cell_type": "code",
   "execution_count": 83,
   "metadata": {},
   "outputs": [],
   "source": [
    "model.compile(loss='mean_squared_error',optimizer='Adam')"
   ]
  },
  {
   "cell_type": "code",
   "execution_count": 81,
   "metadata": {},
   "outputs": [
    {
     "data": {
      "text/plain": [
       "[array([[-0.59167886,  0.47079182],\n",
       "        [-0.28816593, -0.41136736]], dtype=float32),\n",
       " array([0., 0.], dtype=float32),\n",
       " array([[-0.01389098],\n",
       "        [-0.30618203]], dtype=float32),\n",
       " array([0.], dtype=float32)]"
      ]
     },
     "execution_count": 81,
     "metadata": {},
     "output_type": "execute_result"
    }
   ],
   "source": [
    "model.get_weights()"
   ]
  },
  {
   "cell_type": "code",
   "execution_count": 82,
   "metadata": {},
   "outputs": [],
   "source": [
    "optimizer=keras.optimizers.Adam(learning_rate=0.001)"
   ]
  },
  {
   "cell_type": "code",
   "execution_count": 86,
   "metadata": {},
   "outputs": [
    {
     "name": "stdout",
     "output_type": "stream",
     "text": [
      "Train on 4 samples\n",
      "Epoch 1/75\n",
      "4/4 [==============================] - 0s 2ms/sample - loss: 0.2881\n",
      "Epoch 2/75\n",
      "4/4 [==============================] - 0s 2ms/sample - loss: 0.2839\n",
      "Epoch 3/75\n",
      "4/4 [==============================] - 0s 2ms/sample - loss: 0.2835\n",
      "Epoch 4/75\n",
      "4/4 [==============================] - 0s 2ms/sample - loss: 0.2813\n",
      "Epoch 5/75\n",
      "4/4 [==============================] - 0s 3ms/sample - loss: 0.2826\n",
      "Epoch 6/75\n",
      "4/4 [==============================] - 0s 2ms/sample - loss: 0.2788\n",
      "Epoch 7/75\n",
      "4/4 [==============================] - 0s 2ms/sample - loss: 0.2789\n",
      "Epoch 8/75\n",
      "4/4 [==============================] - 0s 2ms/sample - loss: 0.2774\n",
      "Epoch 9/75\n",
      "4/4 [==============================] - 0s 1ms/sample - loss: 0.2763\n",
      "Epoch 10/75\n",
      "4/4 [==============================] - 0s 2ms/sample - loss: 0.2757\n",
      "Epoch 11/75\n",
      "4/4 [==============================] - 0s 2ms/sample - loss: 0.2743\n",
      "Epoch 12/75\n",
      "4/4 [==============================] - 0s 2ms/sample - loss: 0.2739\n",
      "Epoch 13/75\n",
      "4/4 [==============================] - 0s 2ms/sample - loss: 0.2728\n",
      "Epoch 14/75\n",
      "4/4 [==============================] - 0s 1ms/sample - loss: 0.2736\n",
      "Epoch 15/75\n",
      "4/4 [==============================] - 0s 1ms/sample - loss: 0.2715\n",
      "Epoch 16/75\n",
      "4/4 [==============================] - 0s 1ms/sample - loss: 0.2703\n",
      "Epoch 17/75\n",
      "4/4 [==============================] - 0s 1ms/sample - loss: 0.2692\n",
      "Epoch 18/75\n",
      "4/4 [==============================] - 0s 2ms/sample - loss: 0.2692\n",
      "Epoch 19/75\n",
      "4/4 [==============================] - 0s 1ms/sample - loss: 0.2678\n",
      "Epoch 20/75\n",
      "4/4 [==============================] - 0s 2ms/sample - loss: 0.2674\n",
      "Epoch 21/75\n",
      "4/4 [==============================] - 0s 2ms/sample - loss: 0.2669\n",
      "Epoch 22/75\n",
      "4/4 [==============================] - 0s 1ms/sample - loss: 0.2656\n",
      "Epoch 23/75\n",
      "4/4 [==============================] - 0s 1ms/sample - loss: 0.2658\n",
      "Epoch 24/75\n",
      "4/4 [==============================] - 0s 1ms/sample - loss: 0.2647\n",
      "Epoch 25/75\n",
      "4/4 [==============================] - 0s 1ms/sample - loss: 0.2635\n",
      "Epoch 26/75\n",
      "4/4 [==============================] - 0s 1ms/sample - loss: 0.2622\n",
      "Epoch 27/75\n",
      "4/4 [==============================] - 0s 2ms/sample - loss: 0.2617\n",
      "Epoch 28/75\n",
      "4/4 [==============================] - 0s 1ms/sample - loss: 0.2607\n",
      "Epoch 29/75\n",
      "4/4 [==============================] - 0s 2ms/sample - loss: 0.2600\n",
      "Epoch 30/75\n",
      "4/4 [==============================] - 0s 1ms/sample - loss: 0.2598\n",
      "Epoch 31/75\n",
      "4/4 [==============================] - 0s 1ms/sample - loss: 0.2594\n",
      "Epoch 32/75\n",
      "4/4 [==============================] - 0s 2ms/sample - loss: 0.2576\n",
      "Epoch 33/75\n",
      "4/4 [==============================] - 0s 1ms/sample - loss: 0.2568\n",
      "Epoch 34/75\n",
      "4/4 [==============================] - 0s 2ms/sample - loss: 0.2565\n",
      "Epoch 35/75\n",
      "4/4 [==============================] - 0s 1ms/sample - loss: 0.2563\n",
      "Epoch 36/75\n",
      "4/4 [==============================] - 0s 2ms/sample - loss: 0.2546\n",
      "Epoch 37/75\n",
      "4/4 [==============================] - 0s 1ms/sample - loss: 0.2538\n",
      "Epoch 38/75\n",
      "4/4 [==============================] - 0s 2ms/sample - loss: 0.2534\n",
      "Epoch 39/75\n",
      "4/4 [==============================] - 0s 1ms/sample - loss: 0.2523\n",
      "Epoch 40/75\n",
      "4/4 [==============================] - 0s 1ms/sample - loss: 0.2513\n",
      "Epoch 41/75\n",
      "4/4 [==============================] - 0s 2ms/sample - loss: 0.2507\n",
      "Epoch 42/75\n",
      "4/4 [==============================] - 0s 2ms/sample - loss: 0.2497\n",
      "Epoch 43/75\n",
      "4/4 [==============================] - 0s 2ms/sample - loss: 0.2484\n",
      "Epoch 44/75\n",
      "4/4 [==============================] - 0s 1ms/sample - loss: 0.2489\n",
      "Epoch 45/75\n",
      "4/4 [==============================] - 0s 2ms/sample - loss: 0.2476\n",
      "Epoch 46/75\n",
      "4/4 [==============================] - 0s 2ms/sample - loss: 0.2466\n",
      "Epoch 47/75\n",
      "4/4 [==============================] - 0s 817us/sample - loss: 0.2458\n",
      "Epoch 48/75\n",
      "4/4 [==============================] - 0s 2ms/sample - loss: 0.2446\n",
      "Epoch 49/75\n",
      "4/4 [==============================] - 0s 983us/sample - loss: 0.2437\n",
      "Epoch 50/75\n",
      "4/4 [==============================] - 0s 2ms/sample - loss: 0.2433\n",
      "Epoch 51/75\n",
      "4/4 [==============================] - 0s 2ms/sample - loss: 0.2421\n",
      "Epoch 52/75\n",
      "4/4 [==============================] - 0s 2ms/sample - loss: 0.2426\n",
      "Epoch 53/75\n",
      "4/4 [==============================] - 0s 2ms/sample - loss: 0.2412\n",
      "Epoch 54/75\n",
      "4/4 [==============================] - 0s 1ms/sample - loss: 0.2405\n",
      "Epoch 55/75\n",
      "4/4 [==============================] - 0s 2ms/sample - loss: 0.2392\n",
      "Epoch 56/75\n",
      "4/4 [==============================] - 0s 1ms/sample - loss: 0.2388\n",
      "Epoch 57/75\n",
      "4/4 [==============================] - 0s 2ms/sample - loss: 0.2378\n",
      "Epoch 58/75\n",
      "4/4 [==============================] - 0s 2ms/sample - loss: 0.2371\n",
      "Epoch 59/75\n",
      "4/4 [==============================] - 0s 11ms/sample - loss: 0.2364\n",
      "Epoch 60/75\n",
      "4/4 [==============================] - 0s 2ms/sample - loss: 0.2348\n",
      "Epoch 61/75\n",
      "4/4 [==============================] - 0s 2ms/sample - loss: 0.2340\n",
      "Epoch 62/75\n",
      "4/4 [==============================] - 0s 3ms/sample - loss: 0.2343\n",
      "Epoch 63/75\n",
      "4/4 [==============================] - 0s 1ms/sample - loss: 0.2325\n",
      "Epoch 64/75\n",
      "4/4 [==============================] - 0s 2ms/sample - loss: 0.2327\n",
      "Epoch 65/75\n",
      "4/4 [==============================] - 0s 1ms/sample - loss: 0.2313\n",
      "Epoch 66/75\n",
      "4/4 [==============================] - 0s 532us/sample - loss: 0.2312\n",
      "Epoch 67/75\n",
      "4/4 [==============================] - 0s 1ms/sample - loss: 0.2294\n",
      "Epoch 68/75\n",
      "4/4 [==============================] - 0s 2ms/sample - loss: 0.2292\n",
      "Epoch 69/75\n",
      "4/4 [==============================] - 0s 1ms/sample - loss: 0.2281\n",
      "Epoch 70/75\n",
      "4/4 [==============================] - 0s 2ms/sample - loss: 0.2269\n",
      "Epoch 71/75\n",
      "4/4 [==============================] - 0s 2ms/sample - loss: 0.2263\n",
      "Epoch 72/75\n",
      "4/4 [==============================] - 0s 2ms/sample - loss: 0.2254\n",
      "Epoch 73/75\n",
      "4/4 [==============================] - 0s 2ms/sample - loss: 0.2252\n",
      "Epoch 74/75\n",
      "4/4 [==============================] - 0s 2ms/sample - loss: 0.2245\n",
      "Epoch 75/75\n",
      "4/4 [==============================] - 0s 2ms/sample - loss: 0.2230\n"
     ]
    },
    {
     "data": {
      "text/plain": [
       "<tensorflow.python.keras.callbacks.History at 0x207b1ac86c8>"
      ]
     },
     "execution_count": 86,
     "metadata": {},
     "output_type": "execute_result"
    }
   ],
   "source": [
    "model.fit(df.iloc[:,0:-1].values,df['lpa'].values,epochs=75,verbose=1,batch_size=1)"
   ]
  },
  {
   "cell_type": "code",
   "execution_count": 87,
   "metadata": {},
   "outputs": [
    {
     "data": {
      "text/plain": [
       "[array([[-0.86265904,  0.27658617],\n",
       "        [-0.60956866, -0.6398368 ]], dtype=float32),\n",
       " array([-0.30418247, -0.21677722], dtype=float32),\n",
       " array([[-0.23220207],\n",
       "        [-0.55324256]], dtype=float32),\n",
       " array([0.19012988], dtype=float32)]"
      ]
     },
     "execution_count": 87,
     "metadata": {},
     "output_type": "execute_result"
    }
   ],
   "source": [
    "model.get_weights()"
   ]
  },
  {
   "cell_type": "code",
   "execution_count": null,
   "metadata": {},
   "outputs": [],
   "source": []
  }
 ],
 "metadata": {
  "kernelspec": {
   "display_name": "base",
   "language": "python",
   "name": "python3"
  },
  "language_info": {
   "codemirror_mode": {
    "name": "ipython",
    "version": 3
   },
   "file_extension": ".py",
   "mimetype": "text/x-python",
   "name": "python",
   "nbconvert_exporter": "python",
   "pygments_lexer": "ipython3",
   "version": "3.7.6"
  }
 },
 "nbformat": 4,
 "nbformat_minor": 2
}
